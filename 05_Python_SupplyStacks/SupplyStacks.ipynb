{
 "cells": [
  {
   "cell_type": "code",
   "execution_count": 169,
   "metadata": {},
   "outputs": [],
   "source": [
    "stack1 = [\"G\", \"T\", \"R\", \"W\"]\n",
    "stack2 = [\"G\", \"C\", \"H\", \"P\", \"M\", \"S\", \"V\", \"W\"]\n",
    "stack3 = [\"C\", \"L\", \"T\", \"S\", \"G\", \"M\"]\n",
    "stack4 = [\"J\", \"H\", \"D\", \"M\", \"W\", \"R\", \"F\"]\n",
    "stack5 = [\"P\", \"Q\", \"L\", \"H\", \"S\", \"W\", \"F\", \"J\"]\n",
    "stack6 = [\"P\", \"J\", \"D\", \"N\", \"F\", \"M\", \"S\"]\n",
    "stack7 = [\"Z\", \"B\", \"D\", \"F\", \"G\", \"C\", \"S\", \"J\"]\n",
    "stack8 = [\"R\", \"T\", \"B\"]\n",
    "stack9 = [\"H\", \"N\", \"W\", \"L\", \"C\"]\n",
    "stack = [stack1, stack2, stack3, stack4, stack5, stack6, stack7, stack8, stack9]\n"
   ]
  },
  {
   "cell_type": "code",
   "execution_count": 170,
   "metadata": {},
   "outputs": [
    {
     "data": {
      "text/plain": [
       "[['3', '4', '3'],\n",
       " ['3', '8', '6'],\n",
       " ['2', '3', '8'],\n",
       " ['3', '7', '2'],\n",
       " ['1', '1', '3']]"
      ]
     },
     "execution_count": 170,
     "metadata": {},
     "output_type": "execute_result"
    }
   ],
   "source": [
    "import csv\n",
    "import re\n",
    "\n",
    "with open(\"advent5input.txt\", newline=\"\") as f:\n",
    "    reader = csv.reader(f)\n",
    "    data = list(reader)\n",
    "\n",
    "flat_list = [item for sublist in data for item in sublist]\n",
    "\n",
    "clean_instructions = []\n",
    "for instr in flat_list:\n",
    "   clean_instructions.append(re.findall(r'\\d+', instr)) \n",
    "\n",
    "#move x from y to z\n",
    "clean_instructions[:5]"
   ]
  },
  {
   "cell_type": "code",
   "execution_count": 171,
   "metadata": {},
   "outputs": [],
   "source": [
    "def move(stack, x, y, z):\n",
    "    #print(\"Move\", x, \"from\", y, \"to\", z)\n",
    "    y = y-1\n",
    "    z = z-1\n",
    "    for i in range(x):\n",
    "        stack[z].append(stack[y].pop())\n",
    "\n",
    "\n",
    "def move_advanced(stack, x, y, z): #Preservers Order of moved elements\n",
    "    #print(\"Move\", x, \"from\", y, \"to\", z)\n",
    "    y = y-1\n",
    "    z = z-1\n",
    "    \n",
    "    if (x == 1):\n",
    "        for i in range(x):\n",
    "            stack[z].append(stack[y].pop())\n",
    "\n",
    "    elif (x > 1):\n",
    "        to_move = stack[y][-x:]\n",
    "        for i in range(x):\n",
    "            stack[y].pop()\n",
    "        stack[z].extend(to_move)    \n",
    "\n",
    "\n",
    "def print_results(stack):\n",
    "    result = \"\"\n",
    "    for elem in stack:\n",
    "        result += elem[-1]\n",
    "\n",
    "    print(f\"RESULT: {result}\")"
   ]
  },
  {
   "cell_type": "markdown",
   "metadata": {},
   "source": [
    "Part 1 Simple without preserving Order"
   ]
  },
  {
   "cell_type": "code",
   "execution_count": 172,
   "metadata": {},
   "outputs": [
    {
     "name": "stdout",
     "output_type": "stream",
     "text": [
      "RESULT: JCMHLVGMG\n"
     ]
    }
   ],
   "source": [
    "for instr in clean_instructions:\n",
    "    move(stack, int(instr[0]), int(instr[1]), int(instr[2]))    \n",
    "\n",
    "print_results(stack)"
   ]
  },
  {
   "cell_type": "markdown",
   "metadata": {},
   "source": [
    "Part 2 Advanced with preserving Order"
   ]
  },
  {
   "cell_type": "code",
   "execution_count": 176,
   "metadata": {},
   "outputs": [],
   "source": [
    "stack1 = [\"G\", \"T\", \"R\", \"W\"]\n",
    "stack2 = [\"G\", \"C\", \"H\", \"P\", \"M\", \"S\", \"V\", \"W\"]\n",
    "stack3 = [\"C\", \"L\", \"T\", \"S\", \"G\", \"M\"]\n",
    "stack4 = [\"J\", \"H\", \"D\", \"M\", \"W\", \"R\", \"F\"]\n",
    "stack5 = [\"P\", \"Q\", \"L\", \"H\", \"S\", \"W\", \"F\", \"J\"]\n",
    "stack6 = [\"P\", \"J\", \"D\", \"N\", \"F\", \"M\", \"S\"]\n",
    "stack7 = [\"Z\", \"B\", \"D\", \"F\", \"G\", \"C\", \"S\", \"J\"]\n",
    "stack8 = [\"R\", \"T\", \"B\"]\n",
    "stack9 = [\"H\", \"N\", \"W\", \"L\", \"C\"]\n",
    "stack = [stack1, stack2, stack3, stack4, stack5, stack6, stack7, stack8, stack9]"
   ]
  },
  {
   "cell_type": "code",
   "execution_count": 177,
   "metadata": {},
   "outputs": [
    {
     "name": "stdout",
     "output_type": "stream",
     "text": [
      "RESULT: LVMRWSSPZ\n"
     ]
    }
   ],
   "source": [
    "for instr in clean_instructions:\n",
    "    move_advanced(stack, int(instr[0]), int(instr[1]), int(instr[2]))\n",
    "\n",
    "print_results(stack)"
   ]
  }
 ],
 "metadata": {
  "kernelspec": {
   "display_name": "Python 3.10.1 64-bit",
   "language": "python",
   "name": "python3"
  },
  "language_info": {
   "codemirror_mode": {
    "name": "ipython",
    "version": 3
   },
   "file_extension": ".py",
   "mimetype": "text/x-python",
   "name": "python",
   "nbconvert_exporter": "python",
   "pygments_lexer": "ipython3",
   "version": "3.10.1"
  },
  "orig_nbformat": 4,
  "vscode": {
   "interpreter": {
    "hash": "43adfc24390705f51284f0edf152ebd07d5849a9b1e5fbb6c4a78d0cb9d03168"
   }
  }
 },
 "nbformat": 4,
 "nbformat_minor": 2
}
