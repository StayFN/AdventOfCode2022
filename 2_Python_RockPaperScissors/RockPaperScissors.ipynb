{
 "cells": [
  {
   "cell_type": "code",
   "execution_count": 12,
   "metadata": {},
   "outputs": [],
   "source": [
    "content = open('input.txt').read()\n",
    "\n",
    "#replace every \"X\" in content with a \"A\"\n"
   ]
  },
  {
   "cell_type": "code",
   "execution_count": 8,
   "metadata": {},
   "outputs": [],
   "source": [
    "# The score for a single round is the score for the shape you selected (1 for Rock, 2 for Paper, and 3 for Scissors) \n",
    "# plus the score for the outcome of the round (0 if you lost, 3 if the round was a draw, and 6 if you won\n",
    "def checkwin(opponent, me):\n",
    "    if opponent == me:\n",
    "        return 3\n",
    "    elif opponent == \"A\" and me == \"B\":\n",
    "        return 6\n",
    "    elif opponent == \"A\" and me == \"C\":\n",
    "        return 0\n",
    "    elif opponent == \"B\" and me == \"A\":\n",
    "        return 0\n",
    "    elif opponent == \"B\" and me == \"C\":\n",
    "        return 6\n",
    "    elif opponent == \"C\" and me == \"A\":\n",
    "        return 6\n",
    "    elif opponent == \"C\" and me == \"B\":\n",
    "        return 0\n",
    "    \n",
    "\n",
    "score = 0\n",
    "for line in content.splitlines():\n",
    "\n",
    "    line = line.replace(\"X\", \"A\")\n",
    "    line = line.replace(\"Y\", \"B\")\n",
    "    line = line.replace(\"Z\", \"C\")\n",
    "\n",
    "    opponent = line.split(' ')[0]\n",
    "    me = line.split(' ')[1]\n",
    "\n",
    "    if me == \"A\":\n",
    "        score += (1 + checkwin(opponent, me))\n",
    "    elif me == \"B\":\n",
    "        score += (2 + checkwin(opponent, me))\n",
    "    elif me == \"C\":\n",
    "        score += (3 + checkwin(opponent, me))\n",
    "    "
   ]
  },
  {
   "cell_type": "code",
   "execution_count": 9,
   "metadata": {},
   "outputs": [
    {
     "data": {
      "text/plain": [
       "13221"
      ]
     },
     "execution_count": 9,
     "metadata": {},
     "output_type": "execute_result"
    }
   ],
   "source": [
    "score"
   ]
  },
  {
   "cell_type": "code",
   "execution_count": 15,
   "metadata": {},
   "outputs": [],
   "source": [
    "#Part 2 second one is what my response should be X = Loose Y = Draw Z = Win \n",
    "\n",
    "def get_score(opponent, response):\n",
    "    if response == \"X\":\n",
    "        if opponent == \"A\":\n",
    "            return 3\n",
    "        elif opponent == \"B\":\n",
    "            return 1\n",
    "        elif opponent == \"C\":\n",
    "            return 2\n",
    "            \n",
    "    elif response == \"Y\":\n",
    "        if opponent == \"A\":\n",
    "            return 1\n",
    "        elif opponent == \"B\":\n",
    "            return 2\n",
    "        elif opponent == \"C\":\n",
    "            return 3\n",
    "\n",
    "    elif response == \"Z\":\n",
    "        if opponent == \"A\":\n",
    "            return 2\n",
    "        elif opponent == \"B\":\n",
    "            return 3\n",
    "        elif opponent == \"C\":\n",
    "            return 1\n",
    "    \n",
    "\n",
    "score = 0\n",
    "\n",
    "for line in content.splitlines():\n",
    "\n",
    "    opponent = line.split(' ')[0]\n",
    "    response = line.split(' ')[1]\n",
    "\n",
    "    if response == \"X\":\n",
    "        score += (0 + get_score(opponent, response))\n",
    "    elif response == \"Y\":\n",
    "        score += (3 + get_score(opponent, response))\n",
    "    elif response == \"Z\":\n",
    "        score += 6 + (get_score(opponent, response))\n",
    "\n",
    "\n"
   ]
  },
  {
   "cell_type": "code",
   "execution_count": 16,
   "metadata": {},
   "outputs": [
    {
     "data": {
      "text/plain": [
       "13131"
      ]
     },
     "execution_count": 16,
     "metadata": {},
     "output_type": "execute_result"
    }
   ],
   "source": [
    "score"
   ]
  },
  {
   "cell_type": "code",
   "execution_count": null,
   "metadata": {},
   "outputs": [],
   "source": []
  }
 ],
 "metadata": {
  "kernelspec": {
   "display_name": "Python 3.10.1 64-bit",
   "language": "python",
   "name": "python3"
  },
  "language_info": {
   "codemirror_mode": {
    "name": "ipython",
    "version": 3
   },
   "file_extension": ".py",
   "mimetype": "text/x-python",
   "name": "python",
   "nbconvert_exporter": "python",
   "pygments_lexer": "ipython3",
   "version": "3.10.1"
  },
  "orig_nbformat": 4,
  "vscode": {
   "interpreter": {
    "hash": "43adfc24390705f51284f0edf152ebd07d5849a9b1e5fbb6c4a78d0cb9d03168"
   }
  }
 },
 "nbformat": 4,
 "nbformat_minor": 2
}
